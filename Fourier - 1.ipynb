{
 "cells": [
  {
   "cell_type": "code",
   "execution_count": 1,
   "id": "dba6c035",
   "metadata": {},
   "outputs": [],
   "source": [
    "import numpy as np"
   ]
  },
  {
   "cell_type": "code",
   "execution_count": 14,
   "id": "2b87cc8e",
   "metadata": {},
   "outputs": [],
   "source": [
    "isignal = np.array((1, 1, 1, 1, 1, 0, 1, 1, 1, 1))"
   ]
  },
  {
   "cell_type": "code",
   "execution_count": 15,
   "id": "4224a974",
   "metadata": {},
   "outputs": [
    {
     "data": {
      "text/plain": [
       "array([1, 1, 1, 1, 1, 0, 1, 1, 1, 1])"
      ]
     },
     "execution_count": 15,
     "metadata": {},
     "output_type": "execute_result"
    }
   ],
   "source": [
    "isignal"
   ]
  },
  {
   "cell_type": "code",
   "execution_count": 20,
   "id": "8e020427",
   "metadata": {},
   "outputs": [
    {
     "data": {
      "text/plain": [
       "10"
      ]
     },
     "execution_count": 20,
     "metadata": {},
     "output_type": "execute_result"
    }
   ],
   "source": [
    "sig = np.fft.fft(isignal)\n",
    "len(sig)"
   ]
  },
  {
   "cell_type": "code",
   "execution_count": 21,
   "id": "908a497d",
   "metadata": {},
   "outputs": [],
   "source": [
    "isig = np.fft.ifft(sig)"
   ]
  },
  {
   "cell_type": "code",
   "execution_count": 22,
   "id": "ba6fe128",
   "metadata": {},
   "outputs": [
    {
     "data": {
      "text/plain": [
       "10"
      ]
     },
     "execution_count": 22,
     "metadata": {},
     "output_type": "execute_result"
    }
   ],
   "source": [
    "len(isig)"
   ]
  },
  {
   "cell_type": "code",
   "execution_count": null,
   "id": "cb8512ed",
   "metadata": {},
   "outputs": [],
   "source": []
  },
  {
   "cell_type": "code",
   "execution_count": null,
   "id": "85a9ffbf",
   "metadata": {},
   "outputs": [],
   "source": []
  }
 ],
 "metadata": {
  "kernelspec": {
   "display_name": "Python 3 (ipykernel)",
   "language": "python",
   "name": "python3"
  },
  "language_info": {
   "codemirror_mode": {
    "name": "ipython",
    "version": 3
   },
   "file_extension": ".py",
   "mimetype": "text/x-python",
   "name": "python",
   "nbconvert_exporter": "python",
   "pygments_lexer": "ipython3",
   "version": "3.9.12"
  }
 },
 "nbformat": 4,
 "nbformat_minor": 5
}
